{
 "cells": [
  {
   "cell_type": "code",
   "execution_count": null,
   "metadata": {},
   "outputs": [],
   "source": [
    "from tools_basic import tools\n",
    "from dotenv import load_dotenv\n",
    "\n",
    "load_dotenv(\".env\")"
   ]
  },
  {
   "cell_type": "code",
   "execution_count": null,
   "metadata": {},
   "outputs": [],
   "source": [
    "from langchain.agents import AgentExecutor, create_tool_calling_agent\n",
    "from langchain_core.prompts import ChatPromptTemplate\n",
    "from langchain_openai import ChatOpenAI\n",
    "from langchain_core.prompts.chat import ChatPromptTemplate\n",
    "from langchain_core.runnables import RunnablePassthrough\n",
    "from langchain.agents.output_parsers.tools import ToolsAgentOutputParser\n",
    "from langchain.agents.format_scratchpad.tools import format_to_tool_messages\n",
    "from langchain_anthropic import ChatAnthropic\n",
    "from langchain_community.chat_models import ChatPerplexity\n",
    "from langchain_mistralai.chat_models import ChatMistralAI\n",
    "from langchain_cohere import ChatCohere\n",
    "from langchain_core.runnables import ConfigurableField"
   ]
  },
  {
   "cell_type": "code",
   "execution_count": null,
   "metadata": {},
   "outputs": [],
   "source": [
    "llm = ChatAnthropic(\n",
    "    model=\"claude-3-opus-20240229\",\n",
    "    # max_tokens=,\n",
    "    temperature=0.9,\n",
    "    # anthropic_api_key=os.environ.get(\"ANTHROPIC_API_KEY\", \"not_provided\"),\n",
    "    streaming=True,\n",
    "    verbose=True,\n",
    ").configurable_alternatives(  # This gives this field an id\n",
    "    # When configuring the end runnable, we can then use this id to configure this field\n",
    "    ConfigurableField(id=\"llm\"),\n",
    "    default_key=\"anthropic_claude_3_opus\",\n",
    "    openai_gpt_3_5_turbo_1106=ChatOpenAI(\n",
    "        model=\"gpt-3.5-turbo-1106\",\n",
    "        verbose=True,\n",
    "        streaming=True,\n",
    "        temperature=0.9,\n",
    "    ),\n",
    "    openai_gpt_4_turbo_preview=ChatOpenAI(\n",
    "        temperature=0.9,\n",
    "        model=\"gpt-4-turbo-preview\",\n",
    "        verbose=True,\n",
    "        streaming=True,\n",
    "    ),\n",
    "    pplx_sonar_medium_chat=ChatPerplexity(\n",
    "        model=\"sonar-medium-chat\", temperature=0.9, verbose=True, streaming=True\n",
    "    ),\n",
    "    mistral_large=ChatMistralAI(\n",
    "        model=\"mistral-large-latest\", temperature=0.9, verbose=True, streaming=True\n",
    "    ),\n",
    "    command_r_plus=ChatCohere(\n",
    "        model=\"command-r-plus\", temperature=0.9, verbose=True, streaming=True\n",
    "    ),\n",
    ")\n",
    "llm_with_tools = llm.bind_tools(tools=tools)\n",
    "prompt = ChatPromptTemplate.from_messages(\n",
    "    [\n",
    "        (\n",
    "            \"system\",\n",
    "            \"You are a helpful assistant. Make sure to use the tavily_search_results_json tool for information.\",\n",
    "        ),\n",
    "        (\"placeholder\", \"{chat_history}\"),\n",
    "        (\"human\", \"{input}\"),\n",
    "        (\"placeholder\", \"{agent_scratchpad}\"),\n",
    "    ]\n",
    ")\n",
    "# llm_with_tools.with_config(\n",
    "#     {\n",
    "#         \"llm\": \"openai_gpt_4_turbo_preview\",\n",
    "#     }\n",
    "# )\n",
    "agent = (\n",
    "    RunnablePassthrough.assign(\n",
    "        agent_scratchpad=lambda x: format_to_tool_messages(x[\"intermediate_steps\"])\n",
    "    )\n",
    "    | prompt\n",
    "    | llm_with_tools\n",
    "    | ToolsAgentOutputParser()\n",
    ")"
   ]
  },
  {
   "cell_type": "code",
   "execution_count": null,
   "metadata": {},
   "outputs": [],
   "source": [
    "agent.with_config(\n",
    "    {\n",
    "        \"llm\": \"openai_gpt_4_turbo_preview\",\n",
    "    }\n",
    ")\n",
    "executor = AgentExecutor(\n",
    "    agent=agent,\n",
    "    tools=tools,\n",
    "    verbose=True,\n",
    ")\n",
    "streams = executor.astream_events({\"input\": \"今天有什么关于btc的新闻？\"}, version=\"v1\")\n",
    "async for chunk in streams:\n",
    "    print(chunk)"
   ]
  }
 ],
 "metadata": {
  "kernelspec": {
   "display_name": ".venv",
   "language": "python",
   "name": "python3"
  },
  "language_info": {
   "codemirror_mode": {
    "name": "ipython",
    "version": 3
   },
   "file_extension": ".py",
   "mimetype": "text/x-python",
   "name": "python",
   "nbconvert_exporter": "python",
   "pygments_lexer": "ipython3",
   "version": "3.10.6"
  }
 },
 "nbformat": 4,
 "nbformat_minor": 2
}
