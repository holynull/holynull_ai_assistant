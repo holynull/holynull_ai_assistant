{
 "cells": [
  {
   "cell_type": "code",
   "execution_count": 59,
   "metadata": {},
   "outputs": [
    {
     "data": {
      "text/plain": [
       "True"
      ]
     },
     "execution_count": 59,
     "metadata": {},
     "output_type": "execute_result"
    }
   ],
   "source": [
    "from dotenv import load_dotenv\n",
    "\n",
    "load_dotenv(\".env\")"
   ]
  },
  {
   "cell_type": "code",
   "execution_count": 60,
   "metadata": {},
   "outputs": [],
   "source": [
    "from langchain_core.prompts import ChatPromptTemplate\n",
    "from langchain_openai import ChatOpenAI\n",
    "from langchain_core.prompts.chat import ChatPromptTemplate\n",
    "from langchain_core.runnables import RunnablePassthrough\n",
    "from langchain.agents.output_parsers.tools import ToolsAgentOutputParser\n",
    "from langchain.agents.format_scratchpad.tools import format_to_tool_messages\n",
    "from langchain_anthropic import ChatAnthropic"
   ]
  },
  {
   "cell_type": "code",
   "execution_count": 61,
   "metadata": {},
   "outputs": [],
   "source": [
    "from tools_basic import tools\n",
    "\n",
    "llm_anthropic = ChatAnthropic(\n",
    "    model=\"claude-3-opus-20240229\",\n",
    "    # max_tokens=,\n",
    "    temperature=0.9,\n",
    "    # anthropic_api_key=os.environ.get(\"ANTHROPIC_API_KEY\", \"not_provided\"),\n",
    "    streaming=True,\n",
    "    verbose=True,\n",
    ")\n",
    "llm_gpt_4 = ChatOpenAI(\n",
    "    temperature=0.9,\n",
    "    model=\"gpt-4-turbo-preview\",\n",
    "    verbose=True,\n",
    "    streaming=True,\n",
    ")\n",
    "\n",
    "\n",
    "prompt = ChatPromptTemplate.from_messages(\n",
    "    [\n",
    "        (\n",
    "            \"system\",\n",
    "            \"You are a helpful assistant. Make sure to use the tavily_search_results_json tool for information.\",\n",
    "        ),\n",
    "        (\"placeholder\", \"{chat_history}\"),\n",
    "        (\"human\", \"{input}\"),\n",
    "        (\"placeholder\", \"{agent_scratchpad}\"),\n",
    "    ]\n",
    ")"
   ]
  },
  {
   "cell_type": "code",
   "execution_count": 62,
   "metadata": {},
   "outputs": [],
   "source": [
    "from langsmith import Client\n",
    "\n",
    "client = Client()"
   ]
  },
  {
   "cell_type": "code",
   "execution_count": 63,
   "metadata": {},
   "outputs": [
    {
     "name": "stdout",
     "output_type": "stream",
     "text": [
      "\n",
      "\n",
      "\u001b[1m> Entering new AgentExecutor chain...\u001b[0m\n"
     ]
    },
    {
     "name": "stderr",
     "output_type": "stream",
     "text": [
      "/Users/zhangleping/github.com/holynull/chat-langchain/.venv/lib/python3.10/site-packages/langchain_anthropic/chat_models.py:503: UserWarning: stream: Tool use is not yet supported in streaming mode.\n",
      "  warnings.warn(\n"
     ]
    },
    {
     "name": "stdout",
     "output_type": "stream",
     "text": [
      "\u001b[32;1m\u001b[1;3m\n",
      "Invoking: `CryptocurrencyLatestQuote` with `BTC`\n",
      "\n",
      "\n",
      "\u001b[0m\n",
      "\n",
      "\u001b[1m> Entering new MyAPIChain chain...\u001b[0m\n",
      "\u001b[32;1m\u001b[1;3mhttps://pro-api.coinmarketcap.com/v2/cryptocurrency/quotes/latest?symbol=BTC\u001b[0m\n",
      "\u001b[33;1m\u001b[1;3m{\"status\":{\"timestamp\":\"2024-05-11T03:10:50.496Z\",\"error_code\":0,\"error_message\":null,\"elapsed\":36,\"credit_count\":1,\"notice\":null},\"data\":{\"BTC\":[{\"id\":1,\"name\":\"Bitcoin\",\"symbol\":\"BTC\",\"slug\":\"bitcoin\",\"num_market_pairs\":11041,\"date_added\":\"2010-07-13T00:00:00.000Z\",\"tags\":[{\"slug\":\"mineable\",\"name\":\"Mineable\",\"category\":\"OTHERS\"},{\"slug\":\"pow\",\"name\":\"PoW\",\"category\":\"ALGORITHM\"},{\"slug\":\"sha-256\",\"name\":\"SHA-256\",\"category\":\"ALGORITHM\"},{\"slug\":\"store-of-value\",\"name\":\"Store Of Value\",\"category\":\"CATEGORY\"},{\"slug\":\"state-channel\",\"name\":\"State Channel\",\"category\":\"CATEGORY\"},{\"slug\":\"coinbase-ventures-portfolio\",\"name\":\"Coinbase Ventures Portfolio\",\"category\":\"CATEGORY\"},{\"slug\":\"three-arrows-capital-portfolio\",\"name\":\"Three Arrows Capital Portfolio\",\"category\":\"CATEGORY\"},{\"slug\":\"polychain-capital-portfolio\",\"name\":\"Polychain Capital Portfolio\",\"category\":\"CATEGORY\"},{\"slug\":\"binance-labs-portfolio\",\"name\":\"Binance Labs Portfolio\",\"category\":\"CATEGORY\"},{\"slug\":\"blockchain-capital-portfolio\",\"name\":\"Blockchain Capital Portfolio\",\"category\":\"CATEGORY\"},{\"slug\":\"boostvc-portfolio\",\"name\":\"BoostVC Portfolio\",\"category\":\"CATEGORY\"},{\"slug\":\"cms-holdings-portfolio\",\"name\":\"CMS Holdings Portfolio\",\"category\":\"CATEGORY\"},{\"slug\":\"dcg-portfolio\",\"name\":\"DCG Portfolio\",\"category\":\"CATEGORY\"},{\"slug\":\"dragonfly-capital-portfolio\",\"name\":\"DragonFly Capital Portfolio\",\"category\":\"CATEGORY\"},{\"slug\":\"electric-capital-portfolio\",\"name\":\"Electric Capital Portfolio\",\"category\":\"CATEGORY\"},{\"slug\":\"fabric-ventures-portfolio\",\"name\":\"Fabric Ventures Portfolio\",\"category\":\"CATEGORY\"},{\"slug\":\"framework-ventures-portfolio\",\"name\":\"Framework Ventures Portfolio\",\"category\":\"CATEGORY\"},{\"slug\":\"galaxy-digital-portfolio\",\"name\":\"Galaxy Digital Portfolio\",\"category\":\"CATEGORY\"},{\"slug\":\"huobi-capital-portfolio\",\"name\":\"Huobi Capital Portfolio\",\"category\":\"CATEGORY\"},{\"slug\":\"alameda-research-portfolio\",\"name\":\"Alameda Research Portfolio\",\"category\":\"CATEGORY\"},{\"slug\":\"a16z-portfolio\",\"name\":\"a16z Portfolio\",\"category\":\"CATEGORY\"},{\"slug\":\"1confirmation-portfolio\",\"name\":\"1Confirmation Portfolio\",\"category\":\"CATEGORY\"},{\"slug\":\"winklevoss-capital-portfolio\",\"name\":\"Winklevoss Capital Portfolio\",\"category\":\"CATEGORY\"},{\"slug\":\"usv-portfolio\",\"name\":\"USV Portfolio\",\"category\":\"CATEGORY\"},{\"slug\":\"placeholder-ventures-portfolio\",\"name\":\"Placeholder Ventures Portfolio\",\"category\":\"CATEGORY\"},{\"slug\":\"pantera-capital-portfolio\",\"name\":\"Pantera Capital Portfolio\",\"category\":\"CATEGORY\"},{\"slug\":\"multicoin-capital-portfolio\",\"name\":\"Multicoin Capital Portfolio\",\"category\":\"CATEGORY\"},{\"slug\":\"paradigm-portfolio\",\"name\":\"Paradigm Portfolio\",\"category\":\"CATEGORY\"},{\"slug\":\"bitcoin-ecosystem\",\"name\":\"Bitcoin Ecosystem\",\"category\":\"PLATFORM\"},{\"slug\":\"ftx-bankruptcy-estate\",\"name\":\"FTX Bankruptcy Estate \",\"category\":\"CATEGORY\"}],\"max_supply\":21000000,\"circulating_supply\":19696640,\"total_supply\":19696640,\"is_active\":1,\"infinite_supply\":false,\"platform\":null,\"cmc_rank\":1,\"is_fiat\":0,\"self_reported_circulating_supply\":null,\"self_reported_market_cap\":null,\"tvl_ratio\":null,\"last_updated\":\"2024-05-11T03:09:00.000Z\",\"quote\":{\"USD\":{\"price\":60829.398815029555,\"volume_24h\":27315735066.39392,\"volume_change_24h\":7.2075,\"percent_change_1h\":0.04128361,\"percent_change_24h\":-3.22677824,\"percent_change_7d\":-3.14451561,\"percent_change_30d\":-14.23452316,\"percent_change_60d\":-15.65913124,\"percent_change_90d\":27.09340105,\"market_cap\":1198134769876.0637,\"market_cap_dominance\":53.1582,\"fully_diluted_market_cap\":1277417375115.62,\"tvl\":null,\"last_updated\":\"2024-05-11T03:09:00.000Z\"}}},{\"id\":30938,\"name\":\"Satoshi Pumpomoto\",\"symbol\":\"BTC\",\"slug\":\"satoshi-pumpomoto\",\"num_market_pairs\":2,\"date_added\":\"2024-04-26T06:54:08.000Z\",\"tags\":[],\"max_supply\":21000000,\"circulating_supply\":0,\"total_supply\":21000000,\"platform\":{\"id\":5426,\"name\":\"Solana\",\"symbol\":\"SOL\",\"slug\":\"solana\",\"token_address\":\"6AGNtEgBE2jph1bWFdyaqsXJ762emaP9RE17kKxEsfiV\"},\"is_active\":1,\"infinite_supply\":false,\"cmc_rank\":5535,\"is_fiat\":0,\"self_reported_circulating_supply\":21000000,\"self_reported_market_cap\":11544.119440411005,\"tvl_ratio\":null,\"last_updated\":\"2024-05-11T03:09:00.000Z\",\"quote\":{\"USD\":{\"price\":0.000549719973352905,\"volume_24h\":5347.65476526,\"volume_change_24h\":657.7701,\"percent_change_1h\":-1.39338055,\"percent_change_24h\":39.79274177,\"percent_change_7d\":5.99677663,\"percent_change_30d\":0.07866833,\"percent_change_60d\":0.07866833,\"percent_change_90d\":0.07866833,\"market_cap\":0,\"market_cap_dominance\":0,\"fully_diluted_market_cap\":11544.12,\"tvl\":null,\"last_updated\":\"2024-05-11T03:09:00.000Z\"}}}]}}\u001b[0m\n",
      "\n",
      "\u001b[1m> Finished chain.\u001b[0m\n",
      "\u001b[33;1m\u001b[1;3mThe latest market quote for Bitcoin (BTC) is as follows:\n",
      "- Price: $60,829.40\n",
      "- 24-hour volume: $27,315,735,066.39\n",
      "- Market cap: $1,198,134,769,876.06\n",
      "- Rank: 1\n",
      "- Circulating supply: 19,696,640 BTC\n",
      "- Total supply: 19,696,640 BTC\n",
      "- Percent change in 1 hour: 0.04%\n",
      "- Percent change in 24 hours: -3.23%\n",
      "- Percent change in 7 days: -3.14%\n",
      "- Percent change in 30 days: -14.23%\n",
      "- Percent change in 60 days: -15.66%\n",
      "- Percent change in 90 days: 27.09%\u001b[0m"
     ]
    },
    {
     "name": "stderr",
     "output_type": "stream",
     "text": [
      "/Users/zhangleping/github.com/holynull/chat-langchain/.venv/lib/python3.10/site-packages/langchain_anthropic/chat_models.py:503: UserWarning: stream: Tool use is not yet supported in streaming mode.\n",
      "  warnings.warn(\n"
     ]
    },
    {
     "name": "stdout",
     "output_type": "stream",
     "text": [
      "\u001b[32;1m\u001b[1;3mBitcoin (BTC) 最新行情如下：\n",
      "- 价格：$60,829.40\n",
      "- 24小时交易量：$27,315,735,066.39\n",
      "- 市值：$1,198,134,769,876.06\n",
      "- 排名：1\n",
      "- 流通供给量：19,696,640 BTC\n",
      "- 总供给量：19,696,640 BTC\n",
      "- 1小时内价格变动：0.04%\n",
      "- 24小时内价格变动：-3.23%\n",
      "- 7天内价格变动：-3.14%\n",
      "- 30天内价格变动：-14.23%\n",
      "- 60天内价格变动：-15.66%\n",
      "- 90天内价格变动：27.09%\u001b[0m\n",
      "\n",
      "\u001b[1m> Finished chain.\u001b[0m\n",
      "Bitcoin (BTC) 最新行情如下：\n",
      "- 价格：$60,829.40\n",
      "- 24小时交易量：$27,315,735,066.39\n",
      "- 市值：$1,198,134,769,876.06\n",
      "- 排名：1\n",
      "- 流通供给量：19,696,640 BTC\n",
      "- 总供给量：19,696,640 BTC\n",
      "- 1小时内价格变动：0.04%\n",
      "- 24小时内价格变动：-3.23%\n",
      "- 7天内价格变动：-3.14%\n",
      "- 30天内价格变动：-14.23%\n",
      "- 60天内价格变动：-15.66%\n",
      "- 90天内价格变动：27.09%\n"
     ]
    }
   ],
   "source": [
    "agent_claude_3 = (\n",
    "    RunnablePassthrough.assign(\n",
    "        agent_scratchpad=lambda x: format_to_tool_messages(x[\"intermediate_steps\"])\n",
    "    )\n",
    "    | prompt\n",
    "    | llm_anthropic.bind_tools(tools=tools)\n",
    "    | ToolsAgentOutputParser()\n",
    ")\n",
    "agent_gpt_4 = (\n",
    "    RunnablePassthrough.assign(\n",
    "        agent_scratchpad=lambda x: format_to_tool_messages(x[\"intermediate_steps\"])\n",
    "    )\n",
    "    | prompt\n",
    "    | llm_gpt_4.bind_tools(tools=tools)\n",
    "    | ToolsAgentOutputParser()\n",
    ")\n",
    "\n",
    "# agent = agent_claude_3\n",
    "agent = agent_claude_3.with_fallbacks([agent_gpt_4])\n",
    "\n",
    "from langchain.agents import AgentExecutor\n",
    "\n",
    "executor = AgentExecutor(\n",
    "    agent=agent,\n",
    "    tools=tools,\n",
    "    verbose=True,\n",
    ")\n",
    "res = executor.invoke(\n",
    "    {\"input\": \"btc行情\"},\n",
    ")\n",
    "print(res[\"output\"])"
   ]
  }
 ],
 "metadata": {
  "kernelspec": {
   "display_name": ".venv",
   "language": "python",
   "name": "python3"
  },
  "language_info": {
   "codemirror_mode": {
    "name": "ipython",
    "version": 3
   },
   "file_extension": ".py",
   "mimetype": "text/x-python",
   "name": "python",
   "nbconvert_exporter": "python",
   "pygments_lexer": "ipython3",
   "version": "3.10.6"
  }
 },
 "nbformat": 4,
 "nbformat_minor": 2
}
