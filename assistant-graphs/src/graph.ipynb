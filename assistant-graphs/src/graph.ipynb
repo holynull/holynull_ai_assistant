{
 "cells": [
  {
   "cell_type": "code",
   "execution_count": null,
   "metadata": {},
   "outputs": [],
   "source": [
    "from graph_search import graph\n",
    "from IPython.display import Image, display\n",
    "\n",
    "try:\n",
    "    display(Image(graph.get_graph().draw_mermaid_png()))\n",
    "except Exception:\n",
    "    # This requires some extra dependencies and is optional\n",
    "    pass"
   ]
  },
  {
   "cell_type": "code",
   "execution_count": null,
   "metadata": {},
   "outputs": [],
   "source": [
    "from graph_programmer import graph\n",
    "from IPython.display import Image, display\n",
    "\n",
    "try:\n",
    "    display(Image(graph.get_graph().draw_mermaid_png()))\n",
    "except Exception:\n",
    "    # This requires some extra dependencies and is optional\n",
    "    pass"
   ]
  },
  {
   "cell_type": "code",
   "execution_count": null,
   "metadata": {},
   "outputs": [],
   "source": [
    "from graph_chatbot import graph\n",
    "from IPython.display import Image, display\n",
    "\n",
    "try:\n",
    "    display(Image(graph.get_graph().draw_mermaid_png()))\n",
    "except Exception:\n",
    "    # This requires some extra dependencies and is optional\n",
    "    pass"
   ]
  },
  {
   "cell_type": "code",
   "execution_count": null,
   "metadata": {},
   "outputs": [],
   "source": [
    "chunks = graph.astream_events(\n",
    "    {\n",
    "        \"messages\": {\n",
    "            \"type\": \"human\",\n",
    "            # \"content\": \"帮我优化一下tools_programmer.py中的函数apply_patch_with_git\",\n",
    "            \"content\": \"帮我在tools_programmer.py中增加一个生成斐波那契数列的工具\",\n",
    "        },\n",
    "        \"time_zone\": \"Asia/Shanghai\",\n",
    "        \"llm\": \"anthropic_claude_3_5_sonnet\",\n",
    "    },\n",
    "    version=\"v1\",\n",
    "    stream_mode=\"messages\",\n",
    "    config={\"recursion_limit\": 50},\n",
    ")\n",
    "from typing import List\n",
    "from langchain_core.messages import AIMessage\n",
    "\n",
    "async for chunk in chunks:\n",
    "    print(chunk)\n",
    "    if chunk[\"event\"] == \"on_chain_stream\":\n",
    "        # print(chunk)\n",
    "        if \"data\" in chunk:\n",
    "            # print(chunk[\"data\"])\n",
    "            data = chunk[\"data\"]\n",
    "            # print(data[\"chunk\"])\n",
    "            # if \"messages\" in data[\"chunk\"]:\n",
    "            #     messages = data[\"chunk\"][\"messages\"]\n",
    "            #     # print(f\"messages are {messages}\")\n",
    "            #     if isinstance(messages, List) and isinstance(messages[0], AIMessage):\n",
    "            #         print(f\"{messages[0].content[0]['text']}\")\n",
    "\n",
    "# chunks = graph.astream_events(\n",
    "#     {\n",
    "#         \"messages\": {\"type\": \"human\", \"content\": \"同意\"},\n",
    "# \t\t\"time_zone\":\"Asia/Shanghai\",\n",
    "#         \"llm\": \"anthropic_claude_3_5_sonnet\",\n",
    "#     },\n",
    "#     version=\"v1\",\n",
    "#     stream_mode=\"messages\",\n",
    "# )\n",
    "# async for chunk in chunks:\n",
    "#     print(chunk)\n",
    "#     if chunk[\"event\"] == \"on_chain_stream\":\n",
    "#         # print(chunk)\n",
    "#         if \"data\" in chunk:\n",
    "#             # print(chunk[\"data\"])\n",
    "#             data = chunk[\"data\"]\n",
    "#             # print(data[\"chunk\"])\n",
    "#             # if \"messages\" in data[\"chunk\"]:\n",
    "#             #     messages = data[\"chunk\"][\"messages\"]\n",
    "#             #     # print(f\"messages are {messages}\")\n",
    "#             #     if isinstance(messages, List) and isinstance(messages[0], AIMessage):\n",
    "#             #         print(f\"{messages[0].content[0]['text']}\")"
   ]
  }
 ],
 "metadata": {
  "kernelspec": {
   "display_name": ".venv",
   "language": "python",
   "name": "python3"
  },
  "language_info": {
   "codemirror_mode": {
    "name": "ipython",
    "version": 3
   },
   "file_extension": ".py",
   "mimetype": "text/x-python",
   "name": "python",
   "nbconvert_exporter": "python",
   "pygments_lexer": "ipython3",
   "version": "3.11.11"
  }
 },
 "nbformat": 4,
 "nbformat_minor": 2
}
