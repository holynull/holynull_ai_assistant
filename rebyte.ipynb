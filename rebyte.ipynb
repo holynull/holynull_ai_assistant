{
 "cells": [
  {
   "cell_type": "code",
   "execution_count": 1,
   "metadata": {
    "vscode": {
     "languageId": "shellscript"
    }
   },
   "outputs": [],
   "source": [
    "# pip install rebyte-langchain"
   ]
  },
  {
   "cell_type": "code",
   "execution_count": 2,
   "metadata": {
    "vscode": {
     "languageId": "shellscript"
    }
   },
   "outputs": [
    {
     "data": {
      "text/plain": [
       "True"
      ]
     },
     "execution_count": 2,
     "metadata": {},
     "output_type": "execute_result"
    }
   ],
   "source": [
    "from dotenv import load_dotenv\n",
    "\n",
    "load_dotenv(\".env\")"
   ]
  },
  {
   "cell_type": "code",
   "execution_count": 3,
   "metadata": {},
   "outputs": [],
   "source": [
    "import os\n",
    "from rebyte_langchain.rebyte_langchain import RebyteEndpoint"
   ]
  },
  {
   "cell_type": "code",
   "execution_count": 4,
   "metadata": {},
   "outputs": [],
   "source": [
    "llm = RebyteEndpoint(\n",
    "    rebyte_api_key=os.getenv(\"REBYTE_API_KEY\"),\n",
    "    project_id=os.getenv(\"REBYTE_PROJECT_ID\"),\n",
    "    agent_id=os.getenv(\"REBYTE_AGENT_ID\"),\n",
    "    session_id=\"oolLdHU2Rro-Y-HSMtD1z\",\n",
    "    streaming=True,\n",
    ")"
   ]
  },
  {
   "cell_type": "code",
   "execution_count": 5,
   "metadata": {},
   "outputs": [
    {
     "name": "stdout",
     "output_type": "stream",
     "text": [
      "{'type': 'run_status', 'content': {'status': 'running', 'run_id': '20c993e2c6d0610982b157dcdd1f391b713f010df41df1d03cbae8b1694c6879'}}\n",
      "None\n",
      "{'type': 'block_status', 'content': {'block_type': 'input', 'name': 'INPUT', 'status': 'running', 'success_count': 0, 'error_count': 0}}\n",
      "None\n",
      "{'type': 'message', 'content': {'id': 'CsK66VHdWQGQ8YwbR_ovi', 'created_at': 1717731912, 'thread_id': '4618e5c80190ae16cab1:oolLdHU2Rro-Y-HSMtD1z', 'role': 'user', 'content': '你好'}}\n",
      "None\n",
      "{'type': 'block_execution', 'content': {'block_type': 'input', 'block_name': 'INPUT', 'execution': [[{'value': {'messages': [{'role': 'user', 'content': '你好'}]}, 'error': None, 'meta': {'thread_id': '4618e5c80190ae16cab1:oolLdHU2Rro-Y-HSMtD1z', 'duration': 6}}]]}}\n",
      "None\n",
      "{'type': 'block_status', 'content': {'block_type': 'input', 'name': 'INPUT', 'status': 'succeeded', 'success_count': 1, 'error_count': 0}}\n",
      "None\n",
      "{'type': 'block_status', 'content': {'block_type': 'thread', 'name': 'THREAD', 'status': 'running', 'success_count': 0, 'error_count': 0}}\n",
      "None\n",
      "{'type': 'block_execution', 'content': {'block_type': 'thread', 'block_name': 'THREAD', 'execution': [[{'value': {'id': '4618e5c80190ae16cab1:oolLdHU2Rro-Y-HSMtD1z', 'metadata': {}, 'messages': [{'role': 'assistant', 'content': '你好！请问有什么问题或需要帮助的吗？', 'name': 'helpful_agent'}, {'role': 'user', 'content': '你好'}]}, 'error': None, 'meta': {'duration': 8}}]]}}\n",
      "None\n",
      "{'type': 'block_status', 'content': {'block_type': 'thread', 'name': 'THREAD', 'status': 'succeeded', 'success_count': 1, 'error_count': 0}}\n",
      "None\n",
      "{'type': 'block_status', 'content': {'block_type': 'chat', 'name': 'MODEL_CALL', 'status': 'running', 'success_count': 0, 'error_count': 0}}\n",
      "None\n",
      "{'type': 'block_execution', 'content': {'block_type': 'chat', 'block_name': 'MODEL_CALL', 'execution': [[{'value': {'input': [{'role': 'assistant', 'content': '你好！请问有什么问题或需要帮助的吗？', 'name': 'helpful_agent'}, {'role': 'user', 'content': '你好'}], 'message': {'role': 'assistant', 'content': '你好！有什么可以帮助你的吗？'}}, 'error': None, 'meta': {'logs': [], 'usage': {'prompt_tokens': 700, 'completion_tokens': 18, 'total_tokens': 718}, 'duration': 1881}}]]}}\n",
      "None\n",
      "{'type': 'block_status', 'content': {'block_type': 'chat', 'name': 'MODEL_CALL', 'status': 'succeeded', 'success_count': 1, 'error_count': 0}}\n",
      "None\n",
      "{'type': 'block_status', 'content': {'block_type': 'code', 'name': 'GET_ANSWER', 'status': 'running', 'success_count': 0, 'error_count': 0}}\n",
      "None\n",
      "{'type': 'block_execution', 'content': {'block_type': 'code', 'block_name': 'GET_ANSWER', 'execution': [[{'value': {'role': 'assistant', 'content': '你好！有什么可以帮助你的吗？'}, 'error': None, 'meta': {'logs': [], 'duration': 14}}]]}}\n",
      "None\n",
      "{'type': 'block_status', 'content': {'block_type': 'code', 'name': 'GET_ANSWER', 'status': 'succeeded', 'success_count': 1, 'error_count': 0}}\n",
      "None\n",
      "{'type': 'block_status', 'content': {'block_type': 'output', 'name': 'OUTPUT', 'status': 'running', 'success_count': 0, 'error_count': 0}}\n",
      "None\n",
      "{'type': 'message', 'content': {'id': 'N0yj-z-__Xv7Cb-X-qWFd', 'created_at': 1717731913, 'thread_id': '4618e5c80190ae16cab1:oolLdHU2Rro-Y-HSMtD1z', 'role': 'assistant', 'content': '你好！有什么可以帮助你的吗？', 'agent_id': '4618e5c80190ae16cab1', 'name': 'helpful_agent', 'run_id': '20c993e2c6d0610982b157dcdd1f391b713f010df41df1d03cbae8b1694c6879'}}\n",
      "None\n",
      "{'type': 'block_execution', 'content': {'block_type': 'output', 'block_name': 'OUTPUT', 'execution': [[{'value': {'role': 'assistant', 'content': '你好！有什么可以帮助你的吗？'}, 'error': None, 'meta': {'duration': 5}}]]}}\n",
      "你好！有什么可以帮助你的吗？\n",
      "{'type': 'block_status', 'content': {'block_type': 'output', 'name': 'OUTPUT', 'status': 'succeeded', 'success_count': 1, 'error_count': 0}}\n",
      "None\n",
      "{'type': 'run_status', 'content': {'status': 'succeeded', 'run_id': '20c993e2c6d0610982b157dcdd1f391b713f010df41df1d03cbae8b1694c6879'}}\n",
      "None\n",
      "{'type': 'final', 'content': None}\n",
      "None\n",
      "generations=[[ChatGeneration(text='你好！有什么可以帮助你的吗？', generation_info={'finish_reason': 'stop'}, message=AIMessage(content='你好！有什么可以帮助你的吗？', response_metadata={'token_usage': {}, 'finish_reason': 'stop'}, id='run-8b84eeb5-b099-49d0-b071-8f74f3ff3507-0'))]] llm_output={} run=[RunInfo(run_id=UUID('8b84eeb5-b099-49d0-b071-8f74f3ff3507'))]\n"
     ]
    }
   ],
   "source": [
    "from langchain.schema.messages import (\n",
    "    AIMessage,\n",
    "    AIMessageChunk,\n",
    "    BaseMessage,\n",
    "    BaseMessageChunk,\n",
    "    ChatMessage,\n",
    "    FunctionMessage,\n",
    "    HumanMessage,\n",
    "    SystemMessage\n",
    ")\n",
    "\n",
    "res=llm.generate(messages=[[HumanMessage(\"你好\")]])\n",
    "print(res)"
   ]
  },
  {
   "cell_type": "code",
   "execution_count": null,
   "metadata": {},
   "outputs": [],
   "source": [
    "from langsmith import Client\n",
    "\n",
    "langsmith_client = Client()"
   ]
  },
  {
   "cell_type": "code",
   "execution_count": null,
   "metadata": {},
   "outputs": [],
   "source": [
    "from tools_basic import tools\n",
    "from langchain_core.utils.function_calling import convert_to_openai_function\n",
    "import json\n",
    "\n",
    "llm_with_tools = llm.bind_tools(tools=tools)\n",
    "functions = [convert_to_openai_function(t) for t in tools]\n",
    "print(json.dumps(functions))"
   ]
  },
  {
   "cell_type": "code",
   "execution_count": null,
   "metadata": {},
   "outputs": [],
   "source": [
    "from langchain_core.prompts import ChatPromptTemplate\n",
    "from langchain_core.prompts.chat import ChatPromptTemplate\n",
    "from langchain_core.runnables import RunnablePassthrough\n",
    "from langchain.agents.output_parsers.tools import ToolsAgentOutputParser\n",
    "from langchain.agents.format_scratchpad.tools import format_to_tool_messages\n",
    "\n",
    "prompt = ChatPromptTemplate.from_messages(\n",
    "    [\n",
    "        (\n",
    "            \"system\",\n",
    "            \"You are a helpful assistant. Make sure to use the tavily_search_results_json tool for information.\",\n",
    "        ),\n",
    "        (\"placeholder\", \"{chat_history}\"),\n",
    "        (\"human\", \"{input}\"),\n",
    "        (\"placeholder\", \"{agent_scratchpad}\"),\n",
    "    ]\n",
    ")\n",
    "agent = (\n",
    "    RunnablePassthrough.assign(\n",
    "        agent_scratchpad=lambda x: format_to_tool_messages(x[\"intermediate_steps\"])\n",
    "    )\n",
    "    | prompt\n",
    "    | llm_with_tools\n",
    "    | ToolsAgentOutputParser()\n",
    ")"
   ]
  },
  {
   "cell_type": "code",
   "execution_count": null,
   "metadata": {},
   "outputs": [],
   "source": [
    "from langchain.agents import AgentExecutor\n",
    "\n",
    "executor = AgentExecutor(\n",
    "    agent=agent,\n",
    "    tools=tools,\n",
    "    verbose=True,\n",
    ")\n",
    "streams = executor.astream_events({\"input\": \"今天有什么关于btc的新闻？\"}, version=\"v1\")\n",
    "async for chunk in streams:\n",
    "    print(chunk)"
   ]
  }
 ],
 "metadata": {
  "kernelspec": {
   "display_name": ".venv",
   "language": "python",
   "name": "python3"
  },
  "language_info": {
   "codemirror_mode": {
    "name": "ipython",
    "version": 3
   },
   "file_extension": ".py",
   "mimetype": "text/x-python",
   "name": "python",
   "nbconvert_exporter": "python",
   "pygments_lexer": "ipython3",
   "version": "3.10.6"
  }
 },
 "nbformat": 4,
 "nbformat_minor": 2
}
