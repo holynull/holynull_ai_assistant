{
 "cells": [
  {
   "cell_type": "code",
   "execution_count": 2,
   "metadata": {},
   "outputs": [
    {
     "name": "stdout",
     "output_type": "stream",
     "text": [
      "{\"transaction\": {\"accessList\": [], \"blockHash\": \"0x0f3d26693ca07e556e197264b231d22b1f4305f21e19401f1fee2bd3d6a085ca\", \"blockNumber\": 19315537, \"chainId\": 1, \"from\": \"0xC0ffeEBABE5D496B2DDE509f9fa189C25cF29671\", \"gas\": 551109, \"gasPrice\": 37505490772, \"hash\": \"0x8fe7d468383ab1e9954fbd02ebde849f58cd8748b761000ce65b11709bc054da\", \"input\": \"\", \"maxFeePerGas\": 37505490772, \"maxPriorityFeePerGas\": 37505490772, \"nonce\": 5930, \"r\": \"0xd84c429813d4771f4f8b054d836fe268022a1f2c2523ff32d08558f345e75f52\", \"s\": \"0x7bb9c0b7f884d07e6d9d376051db597af1795cf7996bae7c5a36c91472aa5c5c\", \"to\": \"0x3AA228a80F50763045BDfc45012dA124Bd0a6809\", \"transactionIndex\": 8, \"type\": 2, \"v\": 0, \"value\": 83, \"yParity\": 0}, \"eth_transfer_action\": [{\"callType\": \"call\", \"from\": \"0xc0ffeebabe5d496b2dde509f9fa189c25cf29671\", \"gas\": 517685, \"input\": \"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\", \"to\": \"0x3aa228a80f50763045bdfc45012da124bd0a6809\", \"value\": \"83E-18\", \"inpu\": \"\"}, {\"callType\": \"call\", \"from\": \"0xc02aaa39b223fe8d0a0e5c4f27ead9083c756cc2\", \"gas\": 2300, \"input\": \"0x\", \"to\": \"0x3aa228a80f50763045bdfc45012da124bd0a6809\", \"value\": \"0.051606542112856581\", \"inpu\": \"\"}, {\"callType\": \"call\", \"from\": \"0x3aa228a80f50763045bdfc45012da124bd0a6809\", \"gas\": 2300, \"input\": \"0x\", \"to\": \"0x9dd134d14d1e65f84b706d6f205cd5b1cd03a46b\", \"value\": \"0.000428334299536655\", \"inpu\": \"\"}, {\"callType\": \"call\", \"from\": \"0x3aa228a80f50763045bdfc45012da124bd0a6809\", \"gas\": 2300, \"input\": \"0x\", \"to\": \"0xc0ffeebabe5d496b2dde509f9fa189c25cf29671\", \"value\": \"0.051178207813320009\", \"inpu\": \"\"}], \"token_transfer_action\": [{\"from\": \"0xBA12222222228d8Ba445958a75a0704d566BF2C8\", \"to\": \"0x3AA228a80F50763045BDfc45012dA124Bd0a6809\", \"value\": \"0.694833931282878779\", \"token_contract_address\": \"0xC02aaA39b223FE8D0A0e5C4F27eAD9083C756Cc2\"}, {\"from\": \"0x109830a1AAaD605BbF02a9dFA7B0B92EC2FB7dAa\", \"to\": \"0x3AA228a80F50763045BDfc45012dA124Bd0a6809\", \"value\": \"0.6\", \"token_contract_address\": \"0x7f39C581F595B53c5cb19bD0b3f8dA6c935E2Ca0\"}, {\"from\": \"0x3AA228a80F50763045BDfc45012dA124Bd0a6809\", \"to\": \"0x109830a1AAaD605BbF02a9dFA7B0B92EC2FB7dAa\", \"value\": \"0.694833931282878779\", \"token_contract_address\": \"0xC02aaA39b223FE8D0A0e5C4F27eAD9083C756Cc2\"}, {\"from\": \"0x3AA228a80F50763045BDfc45012dA124Bd0a6809\", \"to\": \"0x0000000000000000000000000000000000000000\", \"value\": \"0.6\", \"token_contract_address\": \"0x7f39C581F595B53c5cb19bD0b3f8dA6c935E2Ca0\"}, {\"from\": \"0x7f39C581F595B53c5cb19bD0b3f8dA6c935E2Ca0\", \"to\": \"0x3AA228a80F50763045BDfc45012dA124Bd0a6809\", \"value\": \"0.695027504703650927\", \"token_contract_address\": \"0xae7ab96520DE3A18E5e111B5EaAb095312D7fE84\"}, {\"from\": \"0x3AA228a80F50763045BDfc45012dA124Bd0a6809\", \"to\": \"0xD9A442856C234a39a81a089C06451EBAa4306a72\", \"value\": \"0.695027504703650927\", \"token_contract_address\": \"0xae7ab96520DE3A18E5e111B5EaAb095312D7fE84\"}, {\"from\": \"0x0000000000000000000000000000000000000000\", \"to\": \"0x3AA228a80F50763045BDfc45012dA124Bd0a6809\", \"value\": \"0.693330246138990696\", \"token_contract_address\": \"0xD9A442856C234a39a81a089C06451EBAa4306a72\"}, {\"from\": \"0xBDB04e915B94FbFD6e8552ff7860E59Db7d4499a\", \"to\": \"0x3AA228a80F50763045BDfc45012dA124Bd0a6809\", \"value\": \"0.74644047339573536\", \"token_contract_address\": \"0xC02aaA39b223FE8D0A0e5C4F27eAD9083C756Cc2\"}, {\"from\": \"0x3AA228a80F50763045BDfc45012dA124Bd0a6809\", \"to\": \"0xBDB04e915B94FbFD6e8552ff7860E59Db7d4499a\", \"value\": \"0.693330246138990696\", \"token_contract_address\": \"0xD9A442856C234a39a81a089C06451EBAa4306a72\"}, {\"from\": \"0x3AA228a80F50763045BDfc45012dA124Bd0a6809\", \"to\": \"0xBA12222222228d8Ba445958a75a0704d566BF2C8\", \"value\": \"0.694833931282878779\", \"token_contract_address\": \"0xC02aaA39b223FE8D0A0e5C4F27eAD9083C756Cc2\"}], \"address_info\": [{\"address\": \"0x0000000000000000000000000000000000000000\", \"symbol\": null, \"tag\": \"Failed to retrieve page, status code: 403\"}, {\"address\": \"0x109830a1AAaD605BbF02a9dFA7B0B92EC2FB7dAa\", \"symbol\": null, \"tag\": \"Failed to retrieve page, status code: 403\"}, {\"address\": \"0x3AA228a80F50763045BDfc45012dA124Bd0a6809\", \"symbol\": null, \"tag\": \"Failed to retrieve page, status code: 403\"}, {\"address\": \"0x3aa228a80f50763045bdfc45012da124bd0a6809\", \"symbol\": null, \"tag\": \"Failed to retrieve page, status code: 403\"}, {\"address\": \"0x7f39C581F595B53c5cb19bD0b3f8dA6c935E2Ca0\", \"symbol\": \"wstETH\", \"tag\": \"Failed to retrieve page, status code: 403\"}, {\"address\": \"0x9dd134d14d1e65f84b706d6f205cd5b1cd03a46b\", \"symbol\": null, \"tag\": \"Failed to retrieve page, status code: 403\"}, {\"address\": \"0xBA12222222228d8Ba445958a75a0704d566BF2C8\", \"symbol\": null, \"tag\": \"Failed to retrieve page, status code: 403\"}, {\"address\": \"0xBDB04e915B94FbFD6e8552ff7860E59Db7d4499a\", \"symbol\": null, \"tag\": \"Failed to retrieve page, status code: 403\"}, {\"address\": \"0xC0ffeEBABE5D496B2DDE509f9fa189C25cF29671\", \"symbol\": null, \"tag\": \"Failed to retrieve page, status code: 403\"}, {\"address\": \"0xD9A442856C234a39a81a089C06451EBAa4306a72\", \"symbol\": \"pufETH\", \"tag\": \"Failed to retrieve page, status code: 403\"}, {\"address\": \"0xc02aaa39b223fe8d0a0e5c4f27ead9083c756cc2\", \"symbol\": \"WETH\", \"tag\": \"Failed to retrieve page, status code: 403\"}, {\"address\": \"0xc0ffeebabe5d496b2dde509f9fa189c25cf29671\", \"symbol\": null, \"tag\": \"Failed to retrieve page, status code: 403\"}]}\n",
      "Based on the provided transaction data, here's a breakdown of the transfers and actions involving both tokens and ETH:\n",
      "\n",
      "### ETH Transfers:\n",
      "1. **From: 0xC0ffeEBABE5D496B2DDE509f9fa189C25cF29671 (Sender)** to **0x3AA228a80F50763045BDfc45012dA124Bd0a6809 (Recipient)**\n",
      "   - Value: 83 wei\n",
      "   \n",
      "2. **From: 0xc02aaa39b223fe8d0a0e5c4f27ead9083c756cc2 (WETH Contract)** to **0x3AA228a80F50763045BDfc45012dA124Bd0a6809 (Recipient)**\n",
      "   - Value: 0.051606542112856581 ETH\n",
      "   \n",
      "3. **From: 0x3AA228a80F50763045BDfc45012dA124Bd0a6809 (Recipient)** to **0x9dd134d14d1e65f84b706d6f205cd5b1cd03a46b (Recipient)**\n",
      "   - Value: 0.000428334299536655 ETH\n",
      "   \n",
      "4. **From: 0x3AA228a80F50763045BDfc45012dA124Bd0a6809 (Recipient)** to **0xC0ffeEBABE5D496B2DDE509f9fa189C25cF29671 (Sender)**\n",
      "   - Value: 0.051178207813320009 ETH\n",
      "\n",
      "### Token Transfers:\n",
      "1. **From: 0xBA12222222228d8Ba445958a75a0704d566BF2C8** to **0x3AA228a80F50763045BDfc45012dA124Bd0a6809 (Recipient)**\n",
      "   - Value: 0.694833931282878779 WETH\n",
      "   - Token Contract Address: 0xC02aaA39b223FE8D0A0e5C4F27eAD9083C756Cc2 (WETH)\n",
      "\n",
      "2. **From: 0x109830a1AAaD605BbF02a9dFA7B0B92EC2FB7dAa** to **0x3AA228a80F50763045BDfc45012dA124Bd0a6809 (Recipient)**\n",
      "   - Value: 0.6 wstETH\n",
      "   - Token Contract Address: 0x7f39C581F595B53c5cb19bD0b3f8dA6c935E2Ca0 (wstETH)\n",
      "\n",
      "3. **From: 0x3AA228a80F50763045BDfc45012dA124Bd0a6809 (Recipient)** to **0x109830a1AAaD605BbF02a9dFA7B0B92EC2FB7dAa**\n",
      "   - Value: 0.694833931282878779 WETH\n",
      "   - Token Contract Address: 0xC02aaA39b223FE8D0A0e5C4F27eAD9083C756Cc2 (WETH)\n",
      "\n",
      "4. **Burn Token**:\n",
      "   - **From: 0x3AA228a80F50763045BDfc45012dA124Bd0a6809 (Recipient)** to **0x0000000000000000000000000000000000000000**\n",
      "   - Value: 0.6 wstETH\n",
      "   - Token Contract Address: 0x7f39C581F595B53c5cb19bD0b3f8dA6c935E2Ca0 (wstETH)\n",
      "\n",
      "5. **From: 0x7f39C581F595B53c5cb19bD0b3f8dA6c935E2Ca0** to **0x3AA228a80F50763045BDfc45012dA124Bd0a6809 (Recipient)**\n",
      "   - Value: 0.695027504703650927 wstETH\n",
      "   - Token Contract Address: 0xae7ab96520DE3A18E5e111B5EaAb095312D7fE84 (stETH)\n",
      "\n",
      "6. **From: 0x3AA228a80F50763045BDfc45012dA124Bd0a6809 (Recipient)** to **0xD9A442856C234a39a81a089C06451EBAa4306a72**\n",
      "   - Value: 0.695027504703650927 stETH\n",
      "   - Token Contract Address: 0xae7ab96520DE3A18E5e111B5EaAb095312D7fE84 (stETH)\n",
      "\n",
      "7. **Mint Token**:\n",
      "   - **From: 0x0000000000000000000000000000000000000000** to **0x3AA228a80F50763045BDfc45012dA124Bd0a6809 (Recipient)**\n",
      "   - Value: 0.693330246138990696 pufETH\n",
      "   - Token Contract Address: 0xD9A442856C234a39a81a089C06451EBAa4306a72 (pufETH)\n",
      "\n",
      "8. **From: 0xBDB04e915B94FbFD6e8552ff7860E59Db7d4499a** to **0x3AA228a80F50763045BDfc45012dA124Bd0a6809 (Recipient)**\n",
      "   - Value: 0.74644047339573536 WETH\n",
      "   - Token Contract Address: 0xC02aaA39b223FE8D0A0e5C4F27eAD9083C756Cc2 (WETH)\n",
      "\n",
      "9. **From: 0x3AA228a80F50763045BDfc45012dA124Bd0a6809 (Recipient)** to **0xBDB04e915B94FbFD6e8552ff7860E59Db7d4499a**\n",
      "   - Value: 0.693330246138990696 pufETH\n",
      "   - Token Contract Address: 0xD9A442856C234a39a81a089C06451EBAa4306a72 (pufETH)\n",
      "\n",
      "10. **From: 0x3AA228a80F50763045BDfc45012dA124Bd0a6809 (Recipient)** to **0xBA12222222228d8Ba445958a75a0704d566BF2C8**\n",
      "    - Value: 0.694833931282878779 WETH\n",
      "    - Token Contract Address: 0xC02aaA39b223FE8D0A0e5C4F27eAD9083C756Cc2 (WETH)\n",
      "\n",
      "To summarize:\n",
      "- There are multiple token transfers, including wstETH, WETH, stETH, and pufETH.\n",
      "- There are instances of both token burning and minting.\n",
      "- ETH movements are also significant between involved addresses.\n"
     ]
    }
   ],
   "source": [
    "from dotenv import load_dotenv\n",
    "\n",
    "load_dotenv(\".env\")\n",
    "\n",
    "from tx_funds_transfer_analysis import get_funds_transfer_status_in_transaction_data,get_funds_transfer_status_in_transaction_with_chain\n",
    "import json\n",
    "\n",
    "tx_hash=\"0x8fe7d468383ab1e9954fbd02ebde849f58cd8748b761000ce65b11709bc054da\"\n",
    "result=get_funds_transfer_status_in_transaction_data(tx_hash=tx_hash)\n",
    "print(json.dumps(result))\n",
    "str_resp=get_funds_transfer_status_in_transaction_with_chain(tx_hash=tx_hash)\n",
    "print(str_resp)"
   ]
  }
 ],
 "metadata": {
  "kernelspec": {
   "display_name": ".venv",
   "language": "python",
   "name": "python3"
  },
  "language_info": {
   "codemirror_mode": {
    "name": "ipython",
    "version": 3
   },
   "file_extension": ".py",
   "mimetype": "text/x-python",
   "name": "python",
   "nbconvert_exporter": "python",
   "pygments_lexer": "ipython3",
   "version": "3.10.6"
  }
 },
 "nbformat": 4,
 "nbformat_minor": 2
}
